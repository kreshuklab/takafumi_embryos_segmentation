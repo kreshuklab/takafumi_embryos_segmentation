{
 "cells": [
  {
   "cell_type": "code",
   "execution_count": 1,
   "metadata": {},
   "outputs": [],
   "source": [
    "%gui qt5\n",
    "import time\n",
    "import numpy as np\n",
    "import h5py\n",
    "import napari\n",
    "\n",
    "from skimage.filters import gaussian\n",
    "import matplotlib.pyplot as plt"
   ]
  },
  {
   "cell_type": "code",
   "execution_count": 6,
   "metadata": {},
   "outputs": [
    {
     "data": {
      "text/plain": [
       "<Labels layer 'seg' at 0x7f00c09c95e0>"
      ]
     },
     "execution_count": 6,
     "metadata": {},
     "output_type": "execute_result"
    }
   ],
   "source": [
    "in_file = '/home/adrian/embl_group_share/wolny/Datasets/Takafumi/072021/train/00003.h5'\n",
    "\n",
    "with h5py.File(in_file, 'r') as f:\n",
    "    raw = f['raw'][:]\n",
    "    seg = f['label'][:]\n",
    "    \n",
    "viewer = napari.Viewer()\n",
    "viewer.add_image(raw)\n",
    "viewer.add_labels(seg)"
   ]
  },
  {
   "cell_type": "code",
   "execution_count": 14,
   "metadata": {},
   "outputs": [
    {
     "data": {
      "text/plain": [
       "<Labels layer 'seg' at 0x7f356a644400>"
      ]
     },
     "execution_count": 14,
     "metadata": {},
     "output_type": "execute_result"
    }
   ],
   "source": [
    "in_file = '/home/adrian/embl_group_share/wolny/Datasets/TakafumiCell/train/S4_C0_T00036.h5'\n",
    "\n",
    "with h5py.File(in_file, 'r') as f:\n",
    "    raw = f['raw'][:]\n",
    "    seg = f['label'][:]\n",
    "    \n",
    "viewer = napari.Viewer()\n",
    "viewer.add_image(raw)\n",
    "viewer.add_labels(seg)"
   ]
  },
  {
   "cell_type": "code",
   "execution_count": 12,
   "metadata": {},
   "outputs": [
    {
     "data": {
      "text/plain": [
       "<Labels layer 'seg' at 0x7f356a220a90>"
      ]
     },
     "execution_count": 12,
     "metadata": {},
     "output_type": "execute_result"
    }
   ],
   "source": [
    "in_file = '/home/adrian/embl_group_share/wolny/Datasets/TakafumiCell/test/spoco_4/S4_C0_T00004-1_predictions.h5'\n",
    "\n",
    "with h5py.File(in_file, 'r') as f:\n",
    "    raw = f['raw'][:]\n",
    "    seg = f['unstitched_seg'][:]\n",
    "    \n",
    "viewer = napari.Viewer()\n",
    "viewer.add_image(raw)\n",
    "viewer.add_labels(seg)"
   ]
  },
  {
   "cell_type": "code",
   "execution_count": 8,
   "metadata": {},
   "outputs": [
    {
     "data": {
      "text/plain": [
       "<Labels layer 'seg' at 0x7f356a7f72e0>"
      ]
     },
     "execution_count": 8,
     "metadata": {},
     "output_type": "execute_result"
    }
   ],
   "source": [
    "in_file = '/home/adrian/embl_group_share/wolny/Datasets/TakafumiCell/test/spoco_7_ms/S4_C0_T00052-1_predictions.h5'\n",
    "\n",
    "with h5py.File(in_file, 'r') as f:\n",
    "    raw = f['raw'][:]\n",
    "    seg = f['unstitched_seg'][:]\n",
    "    \n",
    "viewer = napari.Viewer()\n",
    "viewer.add_image(raw)\n",
    "viewer.add_labels(seg)"
   ]
  },
  {
   "cell_type": "code",
   "execution_count": 20,
   "metadata": {},
   "outputs": [],
   "source": [
    "import os\n",
    "in_files = [\n",
    "    '/home/adrian/embl_group_share/wolny/Datasets/TakafumiCell/val/spoco_4_no_stitch/S4_C0_T00004_predictions.h5'\n",
    "]\n",
    "\n",
    "viewer = napari.Viewer()\n",
    "\n",
    "for in_file in in_files:\n",
    "    with h5py.File(in_file, 'r') as f:\n",
    "        raw = f['raw'][:]\n",
    "        unstitched_seg = f['unstitched_seg'][:]\n",
    "        seg = f['seg'][:]\n",
    "    \n",
    "    _, filename = os.path.split(in_file)\n",
    "    viewer.add_image(raw, name=filename)\n",
    "    viewer.add_labels(unstitched_seg, name=filename)\n",
    "    viewer.add_labels(seg, name=filename)"
   ]
  },
  {
   "cell_type": "code",
   "execution_count": 2,
   "metadata": {},
   "outputs": [
    {
     "data": {
      "text/plain": [
       "<Labels layer 'label' at 0x7f356ba005b0>"
      ]
     },
     "execution_count": 2,
     "metadata": {},
     "output_type": "execute_result"
    }
   ],
   "source": [
    "in_file = '/home/adrian/embl_group_share/wolny/Datasets/TakafumiCell/test/takafumi_072021_pretrained/GASP/PostProcessing/S4_C0_T00004-1_predictions_gasp_average.h5'\n",
    "\n",
    "with h5py.File(in_file, 'r') as f:\n",
    "    raw = f['raw'][:]\n",
    "    label = f['segmentation'][:]\n",
    "\n",
    "viewer = napari.Viewer()\n",
    "viewer.add_image(raw)\n",
    "viewer.add_labels(label)"
   ]
  }
 ],
 "metadata": {
  "kernelspec": {
   "display_name": "Python 3",
   "language": "python",
   "name": "python3"
  },
  "language_info": {
   "codemirror_mode": {
    "name": "ipython",
    "version": 3
   },
   "file_extension": ".py",
   "mimetype": "text/x-python",
   "name": "python",
   "nbconvert_exporter": "python",
   "pygments_lexer": "ipython3",
   "version": "3.8.5"
  }
 },
 "nbformat": 4,
 "nbformat_minor": 4
}
